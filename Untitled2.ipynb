{
 "cells": [
  {
   "cell_type": "code",
   "execution_count": 1,
   "id": "7385d82d-6f7f-4323-91a3-faee0595302d",
   "metadata": {},
   "outputs": [],
   "source": [
    "olddict = {'a':0, 'b':1, 'c':2}\n",
    "newlistvals = [1, 2, 3]\n",
    "dictkeys = olddict.keys()\n",
    "dictvalues = olddict.values()"
   ]
  },
  {
   "cell_type": "code",
   "execution_count": 2,
   "id": "fb94ad47-4e22-4550-9b7a-32d31744ba75",
   "metadata": {},
   "outputs": [],
   "source": [
    "newdict = dict(zip(dictkeys, newlistvals))"
   ]
  },
  {
   "cell_type": "code",
   "execution_count": 3,
   "id": "52aecd8e-4226-4e4b-8fde-18a05c3d8321",
   "metadata": {},
   "outputs": [
    {
     "name": "stdout",
     "output_type": "stream",
     "text": [
      "{'a': 1, 'b': 2, 'c': 3}\n"
     ]
    }
   ],
   "source": [
    "print(newdict)"
   ]
  },
  {
   "cell_type": "code",
   "execution_count": 4,
   "id": "03119c6c-088c-4395-a350-2247b07197e8",
   "metadata": {},
   "outputs": [],
   "source": [
    "listtest = [5, 10, 15]"
   ]
  },
  {
   "cell_type": "code",
   "execution_count": 28,
   "id": "0bddb561-2d4a-4732-a4cc-301bf900997f",
   "metadata": {},
   "outputs": [],
   "source": [
    "olddict = dict(zip(dictkeys, newlistvals))"
   ]
  },
  {
   "cell_type": "code",
   "execution_count": 29,
   "id": "6cd60191-31a7-4678-92c7-0478c3f354fc",
   "metadata": {},
   "outputs": [
    {
     "name": "stdout",
     "output_type": "stream",
     "text": [
      "{'a': 1, 'b': 2, 'c': 3}\n"
     ]
    }
   ],
   "source": [
    "print(olddict)"
   ]
  },
  {
   "cell_type": "code",
   "execution_count": 30,
   "id": "0931a84c-a197-4916-91f5-0a67a65de93c",
   "metadata": {},
   "outputs": [
    {
     "name": "stdout",
     "output_type": "stream",
     "text": [
      "5\n",
      "10\n",
      "15\n"
     ]
    }
   ],
   "source": [
    "for i in listtest:\n",
    "    print(i)"
   ]
  },
  {
   "cell_type": "code",
   "execution_count": 31,
   "id": "82a16b7f-3f4f-4a96-a269-d8cecab442cc",
   "metadata": {},
   "outputs": [
    {
     "ename": "IndexError",
     "evalue": "list index out of range",
     "output_type": "error",
     "traceback": [
      "\u001b[1;31m---------------------------------------------------------------------------\u001b[0m",
      "\u001b[1;31mIndexError\u001b[0m                                Traceback (most recent call last)",
      "\u001b[1;32m~\\AppData\\Local\\Temp\\ipykernel_18504\\2684613526.py\u001b[0m in \u001b[0;36m<module>\u001b[1;34m\u001b[0m\n\u001b[0;32m      1\u001b[0m \u001b[1;32mfor\u001b[0m \u001b[0mi\u001b[0m \u001b[1;32min\u001b[0m \u001b[0mlisttest\u001b[0m\u001b[1;33m:\u001b[0m\u001b[1;33m\u001b[0m\u001b[1;33m\u001b[0m\u001b[0m\n\u001b[1;32m----> 2\u001b[1;33m     \u001b[0mprint\u001b[0m\u001b[1;33m(\u001b[0m\u001b[0mlisttest\u001b[0m\u001b[1;33m[\u001b[0m\u001b[0mi\u001b[0m\u001b[1;33m]\u001b[0m\u001b[1;33m)\u001b[0m\u001b[1;33m\u001b[0m\u001b[1;33m\u001b[0m\u001b[0m\n\u001b[0m\u001b[0;32m      3\u001b[0m \u001b[1;33m\u001b[0m\u001b[0m\n",
      "\u001b[1;31mIndexError\u001b[0m: list index out of range"
     ]
    }
   ],
   "source": [
    "for i in listtest:\n",
    "    print(listtest[i])\n",
    "    "
   ]
  },
  {
   "cell_type": "code",
   "execution_count": 12,
   "id": "9d49e762-57c6-496a-984b-21b968733339",
   "metadata": {},
   "outputs": [],
   "source": [
    "list2 = [4, 5, 6]"
   ]
  },
  {
   "cell_type": "code",
   "execution_count": 13,
   "id": "3621f32d-9c7b-4997-83b1-f222d8c63bf7",
   "metadata": {},
   "outputs": [
    {
     "ename": "IndexError",
     "evalue": "list index out of range",
     "output_type": "error",
     "traceback": [
      "\u001b[1;31m---------------------------------------------------------------------------\u001b[0m",
      "\u001b[1;31mIndexError\u001b[0m                                Traceback (most recent call last)",
      "\u001b[1;32m~\\AppData\\Local\\Temp\\ipykernel_18504\\1937390973.py\u001b[0m in \u001b[0;36m<module>\u001b[1;34m\u001b[0m\n\u001b[0;32m      1\u001b[0m \u001b[1;32mfor\u001b[0m \u001b[0mi\u001b[0m\u001b[1;33m,\u001b[0m \u001b[0mval\u001b[0m \u001b[1;32min\u001b[0m \u001b[0menumerate\u001b[0m\u001b[1;33m(\u001b[0m\u001b[0mlisttest\u001b[0m\u001b[1;33m)\u001b[0m\u001b[1;33m:\u001b[0m\u001b[1;33m\u001b[0m\u001b[1;33m\u001b[0m\u001b[0m\n\u001b[1;32m----> 2\u001b[1;33m     \u001b[1;32mif\u001b[0m  \u001b[0mi\u001b[0m \u001b[1;33m>\u001b[0m  \u001b[0mlist2\u001b[0m\u001b[1;33m[\u001b[0m\u001b[0mval\u001b[0m\u001b[1;33m]\u001b[0m\u001b[1;33m:\u001b[0m\u001b[1;33m\u001b[0m\u001b[1;33m\u001b[0m\u001b[0m\n\u001b[0m\u001b[0;32m      3\u001b[0m         \u001b[0mprint\u001b[0m\u001b[1;33m(\u001b[0m\u001b[0mi\u001b[0m \u001b[1;33m,\u001b[0m\u001b[1;34m'is bigger than'\u001b[0m\u001b[1;33m,\u001b[0m \u001b[0mlist2\u001b[0m\u001b[1;33m[\u001b[0m\u001b[0mval\u001b[0m\u001b[1;33m]\u001b[0m\u001b[1;33m)\u001b[0m\u001b[1;33m\u001b[0m\u001b[1;33m\u001b[0m\u001b[0m\n\u001b[0;32m      4\u001b[0m     \u001b[1;32melse\u001b[0m\u001b[1;33m:\u001b[0m\u001b[1;33m\u001b[0m\u001b[1;33m\u001b[0m\u001b[0m\n\u001b[0;32m      5\u001b[0m         \u001b[0mprint\u001b[0m\u001b[1;33m(\u001b[0m\u001b[0mi\u001b[0m\u001b[1;33m,\u001b[0m \u001b[1;34m'is smaller than'\u001b[0m\u001b[1;33m,\u001b[0m \u001b[0mlist2\u001b[0m\u001b[1;33m[\u001b[0m\u001b[0mval\u001b[0m\u001b[1;33m]\u001b[0m\u001b[1;33m)\u001b[0m\u001b[1;33m\u001b[0m\u001b[1;33m\u001b[0m\u001b[0m\n",
      "\u001b[1;31mIndexError\u001b[0m: list index out of range"
     ]
    }
   ],
   "source": [
    "for i, val in enumerate(listtest):\n",
    "    if  i >  list2[val]:\n",
    "        print(i ,'is bigger than', list2[val])\n",
    "    else:\n",
    "        print(i, 'is smaller than', list2[val])"
   ]
  },
  {
   "cell_type": "code",
   "execution_count": 14,
   "id": "a5fae10c-4430-47b5-abe0-850dac88d608",
   "metadata": {},
   "outputs": [
    {
     "name": "stdout",
     "output_type": "stream",
     "text": [
      "5\n",
      "10\n",
      "15\n"
     ]
    }
   ],
   "source": [
    "for i, val in enumerate(listtest):\n",
    "    print(val)"
   ]
  },
  {
   "cell_type": "code",
   "execution_count": 15,
   "id": "785db71a-130a-48d0-a74a-393ca7ba77e8",
   "metadata": {},
   "outputs": [
    {
     "name": "stdout",
     "output_type": "stream",
     "text": [
      "5 is bigger than 4\n",
      "10 is bigger than 5\n",
      "15 is bigger than 6\n"
     ]
    }
   ],
   "source": [
    "for i, val in enumerate(listtest):\n",
    "    if val > list2[i]:\n",
    "        print(val, 'is bigger than', list2[i])\n",
    "    else:\n",
    "        print(val, 'is smaller than', list2[i])"
   ]
  },
  {
   "cell_type": "code",
   "execution_count": 16,
   "id": "18c8b1fd-42b1-4b68-bc2a-85d6779e2518",
   "metadata": {},
   "outputs": [],
   "source": [
    "def perfectIVCount(list):\n",
    "    perfectCounter = 0\n",
    "    for iv in list:\n",
    "        if iv == 31:\n",
    "            perfectCounter += 1\n",
    "    return(perfectCounter)"
   ]
  },
  {
   "cell_type": "code",
   "execution_count": 17,
   "id": "0447a7b1-bd27-4960-83fe-46d7f3cc0cf3",
   "metadata": {},
   "outputs": [],
   "source": [
    "listtesty = [31,  31, 31, 5]"
   ]
  },
  {
   "cell_type": "code",
   "execution_count": 18,
   "id": "c83aec26-d355-4dfa-8afe-d3ef71fd990e",
   "metadata": {},
   "outputs": [
    {
     "data": {
      "text/plain": [
       "3"
      ]
     },
     "execution_count": 18,
     "metadata": {},
     "output_type": "execute_result"
    }
   ],
   "source": [
    "perfectIVCount(listtesty)"
   ]
  },
  {
   "cell_type": "code",
   "execution_count": 19,
   "id": "f21ebaae-21a7-4efa-8f49-8c804aa706b9",
   "metadata": {},
   "outputs": [],
   "source": [
    "d = 3\n",
    "e = 2\n",
    "f = 4\n"
   ]
  },
  {
   "cell_type": "code",
   "execution_count": 21,
   "id": "b9283f9b-723a-4203-a590-f602476d8d97",
   "metadata": {},
   "outputs": [
    {
     "name": "stdout",
     "output_type": "stream",
     "text": [
      "hi\n"
     ]
    }
   ],
   "source": [
    "if d > e and f:\n",
    "    print(\"hi\")"
   ]
  },
  {
   "cell_type": "code",
   "execution_count": 23,
   "id": "f00dc48d-338a-4286-bbd8-74cf0f50dfa1",
   "metadata": {},
   "outputs": [
    {
     "name": "stdout",
     "output_type": "stream",
     "text": [
      "failed\n"
     ]
    }
   ],
   "source": [
    "if d > e or d > f:\n",
    "    print('failed')"
   ]
  },
  {
   "cell_type": "code",
   "execution_count": 24,
   "id": "445af894-af67-4ae0-8397-060b64096f4c",
   "metadata": {},
   "outputs": [],
   "source": [
    "g = 4"
   ]
  },
  {
   "cell_type": "code",
   "execution_count": 25,
   "id": "41f2e6dc-8627-456a-b9d7-2c53f6f1dd5b",
   "metadata": {},
   "outputs": [],
   "source": [
    "h = 7\n"
   ]
  },
  {
   "cell_type": "code",
   "execution_count": 26,
   "id": "46388704-c303-4549-9830-dd463ba92d5d",
   "metadata": {},
   "outputs": [
    {
     "name": "stdout",
     "output_type": "stream",
     "text": [
      "passed\n"
     ]
    }
   ],
   "source": [
    "if h > f and h > g:\n",
    "    print('passed')"
   ]
  },
  {
   "cell_type": "code",
   "execution_count": 27,
   "id": "23d08c23-bfdd-4ece-b657-647327bf7e47",
   "metadata": {},
   "outputs": [
    {
     "name": "stdout",
     "output_type": "stream",
     "text": [
      "7\n"
     ]
    }
   ],
   "source": [
    "if h > f:\n",
    "    f = h\n",
    "    print(f)"
   ]
  },
  {
   "cell_type": "code",
   "execution_count": 33,
   "id": "71e752b9-ad5e-43c6-a8c7-5e375640eaff",
   "metadata": {},
   "outputs": [],
   "source": [
    "test = {'gender': 'male' or 'female'}"
   ]
  },
  {
   "cell_type": "code",
   "execution_count": 34,
   "id": "74968c46-1624-4b94-b903-be229072d1d0",
   "metadata": {},
   "outputs": [
    {
     "name": "stdout",
     "output_type": "stream",
     "text": [
      "male\n"
     ]
    }
   ],
   "source": [
    "print(test['gender'])\n"
   ]
  },
  {
   "cell_type": "code",
   "execution_count": 35,
   "id": "613ba0ca-4421-4056-81e6-66a1ebd23a5c",
   "metadata": {},
   "outputs": [
    {
     "name": "stdout",
     "output_type": "stream",
     "text": [
      "male\n"
     ]
    }
   ],
   "source": [
    "print(test['gender'])"
   ]
  },
  {
   "cell_type": "code",
   "execution_count": 36,
   "id": "ba62dee0-a8b5-4529-8f0c-1e5d10eb0efd",
   "metadata": {},
   "outputs": [
    {
     "name": "stdout",
     "output_type": "stream",
     "text": [
      "male\n"
     ]
    }
   ],
   "source": [
    "print(test['gender'])"
   ]
  },
  {
   "cell_type": "code",
   "execution_count": 37,
   "id": "b8d43df6-3164-4902-bd2b-a2118c5dee70",
   "metadata": {},
   "outputs": [],
   "source": [
    "listtest = [1, 2, 3, 'Hello']"
   ]
  },
  {
   "cell_type": "code",
   "execution_count": 45,
   "id": "55abf0c2-74c2-4aaf-9dc5-aa0800d2fc1e",
   "metadata": {},
   "outputs": [
    {
     "name": "stdout",
     "output_type": "stream",
     "text": [
      "test\n"
     ]
    }
   ],
   "source": [
    "for i, j in enumerate(listtest):\n",
    "    if j == 'Hello':\n",
    "        listtest[i] = 'Test'\n",
    "        print('test')\n",
    "    else:\n",
    "        continue\n"
   ]
  },
  {
   "cell_type": "code",
   "execution_count": 83,
   "id": "f88628c5-10bc-4b6f-a8b5-25395564ce07",
   "metadata": {},
   "outputs": [],
   "source": [
    "list1 = [1, 2, 3]"
   ]
  },
  {
   "cell_type": "code",
   "execution_count": 84,
   "id": "3eb60634-a6f1-4654-bcda-65e266b4d447",
   "metadata": {},
   "outputs": [],
   "source": [
    "list2 = [3, 4, 5]"
   ]
  },
  {
   "cell_type": "code",
   "execution_count": 85,
   "id": "48dcca8e-b0fd-475e-9e4e-ce9957f4e06a",
   "metadata": {},
   "outputs": [
    {
     "name": "stdout",
     "output_type": "stream",
     "text": [
      "26\n"
     ]
    }
   ],
   "source": [
    "dot_product = 0\n",
    "for i, j in enumerate(list1):\n",
    "    dot_product += list1[i]*list2[i]\n",
    "print(dot_product)"
   ]
  },
  {
   "cell_type": "code",
   "execution_count": 78,
   "id": "b2328623-1dfa-4aa0-9e2f-cede93b3846a",
   "metadata": {},
   "outputs": [],
   "source": [
    "import numpy as np\n"
   ]
  },
  {
   "cell_type": "code",
   "execution_count": 80,
   "id": "ab6180cb-bb14-446a-92b3-f9ad7c962089",
   "metadata": {},
   "outputs": [],
   "source": [
    "list1 = np.array(3)"
   ]
  },
  {
   "cell_type": "code",
   "execution_count": null,
   "id": "bb39cb69-ad09-40b7-a05c-5407d604ca33",
   "metadata": {},
   "outputs": [],
   "source": []
  }
 ],
 "metadata": {
  "kernelspec": {
   "display_name": "Python 3 (ipykernel)",
   "language": "python",
   "name": "python3"
  },
  "language_info": {
   "codemirror_mode": {
    "name": "ipython",
    "version": 3
   },
   "file_extension": ".py",
   "mimetype": "text/x-python",
   "name": "python",
   "nbconvert_exporter": "python",
   "pygments_lexer": "ipython3",
   "version": "3.9.13"
  }
 },
 "nbformat": 4,
 "nbformat_minor": 5
}
